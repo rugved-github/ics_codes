{
 "cells": [
  {
   "cell_type": "code",
   "execution_count": 1,
   "metadata": {
    "id": "ZrJDy6e0lgCG"
   },
   "outputs": [],
   "source": [
    "import math"
   ]
  },
  {
   "cell_type": "code",
   "execution_count": 2,
   "metadata": {
    "id": "Ke341JPCfvNW"
   },
   "outputs": [],
   "source": [
    "def getKeyMatrix(key):\n",
    "  keyMatrix=[[0] * 3 for i in range(3)]\n",
    "  k=0\n",
    "  for i in range(3):\n",
    "    for j in range(3):\n",
    "      keyMatrix[i][j]=ord(key[k])%65\n",
    "      k+=1\n",
    "  return keyMatrix\n"
   ]
  },
  {
   "cell_type": "code",
   "execution_count": 3,
   "metadata": {
    "id": "tQp0yQB0idOb"
   },
   "outputs": [],
   "source": [
    "def encrypt(messagevector,keyMatrix):\n",
    "  col=len(messagevector[0])\n",
    "  cipherMatrix=[[0 for i in range(col)]for j in range(3)]\n",
    "\n",
    "  for i in range(3):\n",
    "    for j in range(col):\n",
    "      cipherMatrix[i][j]=0\n",
    "      for x in range(3):\n",
    "        cipherMatrix[i][j]+=(keyMatrix[i][x] * messagevector[x][j])\n",
    "      cipherMatrix[i][j] = cipherMatrix[i][j] %26\n",
    "  return cipherMatrix\n",
    "\n"
   ]
  },
  {
   "cell_type": "code",
   "execution_count": 4,
   "metadata": {
    "id": "qLkW4U2-fjH2"
   },
   "outputs": [],
   "source": [
    "def HillCipher(message, key):\n",
    "\n",
    "  keyMatrix=getKeyMatrix(key)\n",
    "  print(keyMatrix)\n",
    "\n",
    "  msg_len=len(message)\n",
    "  row=3\n",
    "  col=math.ceil(msg_len/row)\n",
    "  extra=(row*col)-msg_len\n",
    "  message+=\"Z\"*extra\n",
    "\n",
    "  messagevector = [[0 for i in range(col)] for j in range(3)]\n",
    "\n",
    "  msg_index=0\n",
    "  for i in range(col):\n",
    "    for j in range(3):\n",
    "      messagevector[j][i]=ord(message[msg_index])%65\n",
    "      msg_index+=1\n",
    "  print(messagevector)\n",
    "\n",
    "  cipherMatrix=encrypt(messagevector,keyMatrix)\n",
    "  print(cipherMatrix)\n",
    "\n",
    "  CipherText=[]\n",
    "  for i in range(col):\n",
    "    for j in range(3):\n",
    "      CipherText.append(chr(cipherMatrix[j][i]+65))\n",
    "\n",
    "  print(\"CipherText is: \", ''.join(CipherText))\n",
    "\n",
    "\n"
   ]
  },
  {
   "cell_type": "code",
   "execution_count": 5,
   "metadata": {
    "colab": {
     "base_uri": "https://localhost:8080/"
    },
    "id": "KDV6DdH6P7M4",
    "outputId": "2808b169-e5bf-47ca-8d00-1877f7663076"
   },
   "outputs": [
    {
     "name": "stdout",
     "output_type": "stream",
     "text": [
      "[[6, 24, 1], [13, 16, 10], [20, 17, 15]]\n",
      "[[0, 0, 1], [2, 2, 14], [19, 19, 25]]\n",
      "[[15, 15, 3], [14, 14, 19], [7, 7, 9]]\n",
      "CipherText is:  POHPOHDTJ\n"
     ]
    }
   ],
   "source": [
    "if __name__ == \"__main__\":\n",
    "\n",
    "  message= \"ACTACTBO\"\n",
    "  key= \"GYBNQKURP\"\n",
    "\n",
    "HillCipher(message,key)"
   ]
  },
  {
   "cell_type": "code",
   "execution_count": null,
   "metadata": {},
   "outputs": [],
   "source": []
  }
 ],
 "metadata": {
  "colab": {
   "name": "Mohit_HillCipher.ipynb",
   "provenance": []
  },
  "kernelspec": {
   "display_name": "Python 3 (ipykernel)",
   "language": "python",
   "name": "python3"
  },
  "language_info": {
   "codemirror_mode": {
    "name": "ipython",
    "version": 3
   },
   "file_extension": ".py",
   "mimetype": "text/x-python",
   "name": "python",
   "nbconvert_exporter": "python",
   "pygments_lexer": "ipython3",
   "version": "3.10.2"
  }
 },
 "nbformat": 4,
 "nbformat_minor": 1
}
