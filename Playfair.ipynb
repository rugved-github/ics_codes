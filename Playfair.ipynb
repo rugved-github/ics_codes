{
 "cells": [
  {
   "cell_type": "code",
   "execution_count": 1,
   "metadata": {
    "id": "Q6LMgVry6mSg"
   },
   "outputs": [],
   "source": [
    "def create_matrix(key):\n",
    "  letter_added=[]\n",
    "  key=key.upper()\n",
    "  matrix = [[0 for i in range(5)] for j in range(5)]\n",
    "  for i in range(len(key)):\n",
    "    if key[i] not in letter_added:\n",
    "      letter_added.append(key[i])\n",
    "\n",
    "  for i in range(65,91):\n",
    "    if i==74:\n",
    "      continue\n",
    "    if chr(i) not in letter_added:\n",
    "      letter_added.append(chr(i))\n",
    "      \n",
    "  k=0\n",
    "  for i in range(5):\n",
    "    for j in range(5):\n",
    "      matrix[i][j] = letter_added[k]\n",
    "      k+=1\n",
    "  return matrix\n"
   ]
  },
  {
   "cell_type": "code",
   "execution_count": 2,
   "metadata": {
    "id": "yrnRh7LX78z0"
   },
   "outputs": [],
   "source": [
    "def replace_duplicate(msg):\n",
    "  i=0\n",
    "  while(i<len(msg)):\n",
    "    l1=msg[i]\n",
    "    if(i == len(msg)-1):\n",
    "      msg = msg+\"X\"\n",
    "      i+=2\n",
    "      continue\n",
    "    l2 = msg[i+1]\n",
    "    if l1==l2:\n",
    "      msg = msg[:i+1] + \"X\" + msg[i+1:]\n",
    "    i+=2\n",
    "  return msg"
   ]
  },
  {
   "cell_type": "code",
   "execution_count": 3,
   "metadata": {
    "id": "aE_PQVA7786J"
   },
   "outputs": [],
   "source": [
    "def indexof(l, matrix):\n",
    "  for i in range(5):\n",
    "    if l in matrix[i]:\n",
    "      return i,matrix[i].index(l)"
   ]
  },
  {
   "cell_type": "code",
   "execution_count": 9,
   "metadata": {
    "id": "IaqylrikyR06"
   },
   "outputs": [],
   "source": [
    "def playfair(msg , key, encrypt = True):\n",
    "  inc = 1\n",
    "  if encrypt == False:\n",
    "    inc = -1\n",
    "  matrix = create_matrix(key)\n",
    "  msg=msg.upper()\n",
    "  msg = msg.replace(' ','')\n",
    "  msg=replace_duplicate(msg)\n",
    "\n",
    "  cipher_text = ''\n",
    "\n",
    "  for i in range(0,len(msg),2):\n",
    "    l1 = msg[i]\n",
    "    l2 = msg[i+1]\n",
    "    row1, col1 = indexof(l1, matrix)\n",
    "    row2, col2 = indexof(l2, matrix)    \n",
    "    \n",
    "    if row1 == row2:\n",
    "      cipher_text += matrix[row1][(col1+inc)%5] + matrix[row2][(col2+inc)%5]\n",
    "    elif col1 == col2:\n",
    "      cipher_text += matrix[(row1+inc)%5][(col1)] + matrix[(row2+inc)%5][(col2)]\n",
    "    else:\n",
    "      cipher_text += matrix[row1][(col2)] + matrix[row2][(col1)]\n",
    "  return cipher_text\n"
   ]
  },
  {
   "cell_type": "code",
   "execution_count": 10,
   "metadata": {
    "colab": {
     "base_uri": "https://localhost:8080/"
    },
    "id": "s_q8vDCKokCB",
    "outputId": "c77ff6d5-61e2-4d86-c702-fe5966a6388c"
   },
   "outputs": [
    {
     "name": "stdout",
     "output_type": "stream",
     "text": [
      "Enter your Message: rugvedsakure\n",
      "Enter the key: rugved\n",
      "UGVERFOFIGUR\n",
      "RUGVEDSAKURE\n"
     ]
    }
   ],
   "source": [
    "plaintext = input(\"Enter your Message: \")\n",
    "key = input(\"Enter the key: \")\n",
    "cipher_text = playfair(plaintext , key)\n",
    "print(cipher_text)\n",
    "decrypt_text = playfair(cipher_text , key,False)\n",
    "print(decrypt_text)"
   ]
  },
  {
   "cell_type": "code",
   "execution_count": null,
   "metadata": {},
   "outputs": [],
   "source": []
  }
 ],
 "metadata": {
  "colab": {
   "name": "Mohit_Playfair.ipynb",
   "provenance": []
  },
  "kernelspec": {
   "display_name": "Python 3",
   "language": "python",
   "name": "python3"
  },
  "language_info": {
   "codemirror_mode": {
    "name": "ipython",
    "version": 3
   },
   "file_extension": ".py",
   "mimetype": "text/x-python",
   "name": "python",
   "nbconvert_exporter": "python",
   "pygments_lexer": "ipython3",
   "version": "3.7.4"
  }
 },
 "nbformat": 4,
 "nbformat_minor": 1
}
