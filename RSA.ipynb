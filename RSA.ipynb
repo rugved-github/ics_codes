{
 "cells": [
  {
   "cell_type": "code",
   "execution_count": 1,
   "metadata": {
    "id": "B5_OTpUJjpp-"
   },
   "outputs": [],
   "source": [
    "def gcd(x,y):\n",
    "  if x < y:\n",
    "    small=x\n",
    "    large=y\n",
    "  else:\n",
    "    small=y\n",
    "    large=x\n",
    "  \n",
    "  while small!=0:\n",
    "    temp=large%small\n",
    "    large=small\n",
    "    small=temp\n",
    "  return large\n",
    "\n"
   ]
  },
  {
   "cell_type": "code",
   "execution_count": 2,
   "metadata": {
    "id": "vB_D3sFajLHW"
   },
   "outputs": [],
   "source": [
    "def find_e(z):\n",
    "  e=2\n",
    "  while e < z:\n",
    "    if(gcd(e,z)==1):\n",
    "      print(e)\n",
    "      return e\n",
    "    e+=1\n"
   ]
  },
  {
   "cell_type": "code",
   "execution_count": 3,
   "metadata": {
    "id": "TpNAAHiUjyur"
   },
   "outputs": [],
   "source": [
    "def find_d(z,e):\n",
    "  d=2\n",
    "  while d < z:\n",
    "    if((d*e)%z==1):\n",
    "      print(d)\n",
    "      return d\n",
    "    d+=1\n"
   ]
  },
  {
   "cell_type": "code",
   "execution_count": 20,
   "metadata": {
    "id": "2OOp6YVOPWwO"
   },
   "outputs": [],
   "source": [
    "def rsa_algo(p,q,text):\n",
    "  n=p*q\n",
    "  z=(p-1)*(q-1)\n",
    "  e=find_e(z)\n",
    "  d=find_d(z,e)\n",
    "  print(\"Private Key is: \" , e, n)\n",
    "  print(\"Public Key is: \" , d, n)\n",
    "\n",
    "\n",
    "\n",
    "  cipher_text=(text**e)%n\n",
    "\n",
    "  plain_text=(cipher_text** d) % n\n",
    "  \n",
    "  return cipher_text,plain_text\n",
    "\n",
    "  \n"
   ]
  },
  {
   "cell_type": "code",
   "execution_count": 21,
   "metadata": {
    "colab": {
     "base_uri": "https://localhost:8080/"
    },
    "id": "smECkAKDmY9F",
    "outputId": "bd00c5cb-199d-4b5f-9f45-583b2d609d9d"
   },
   "outputs": [
    {
     "name": "stdout",
     "output_type": "stream",
     "text": [
      "17\n",
      "19\n",
      "89\n",
      "5\n",
      "173\n",
      "Private Key is:  5 323\n",
      "Public Key is:  173 323\n",
      "## (242, 89)\n"
     ]
    }
   ],
   "source": [
    "p=int(input())\n",
    "q=int(input())\n",
    "text=int(input())\n",
    "print (\"##\",rsa_algo(p,q,text))\n",
    "\n",
    "\n"
   ]
  },
  {
   "cell_type": "code",
   "execution_count": null,
   "metadata": {},
   "outputs": [],
   "source": []
  }
 ],
 "metadata": {
  "colab": {
   "collapsed_sections": [],
   "name": "Mohit_RSA.ipynb",
   "provenance": []
  },
  "kernelspec": {
   "display_name": "Python 3",
   "language": "python",
   "name": "python3"
  },
  "language_info": {
   "codemirror_mode": {
    "name": "ipython",
    "version": 3
   },
   "file_extension": ".py",
   "mimetype": "text/x-python",
   "name": "python",
   "nbconvert_exporter": "python",
   "pygments_lexer": "ipython3",
   "version": "3.7.4"
  }
 },
 "nbformat": 4,
 "nbformat_minor": 1
}
